{
 "cells": [
  {
   "cell_type": "code",
   "execution_count": 1,
   "metadata": {},
   "outputs": [],
   "source": [
    "from Crypto.PublicKey import RSA\n",
    "import socket\n",
    "import MCipher"
   ]
  },
  {
   "cell_type": "code",
   "execution_count": null,
   "metadata": {},
   "outputs": [],
   "source": [
    "\n",
    "prikey = RSA.generate(1024)\n",
    "pubkey = prikey.publickey()\n",
    "\n",
    "priFile = open(\"./clientSignPriKey.pem\" , \"wb+\")\n",
    "priFile.write(prikey.exportKey(\"PEM\"))\n",
    "priFile.close()\n",
    "\n",
    "pubFile = open(\"./clientSignPubKey.pem\" , \"wb+\")\n",
    "pubFile.write(pubkey.exportKey(\"PEM\"))\n",
    "pubFile.close()"
   ]
  },
  {
   "cell_type": "code",
   "execution_count": null,
   "metadata": {},
   "outputs": [
    {
     "name": "stdout",
     "output_type": "stream",
     "text": [
      "key :  thisisbadkeyokeythisisbadkeyokey\n",
      "iv  : ivisintialvector\n",
      " -> aaa\n",
      "Server가 보낸 메시지가 맞습니다. : bbbb\n",
      " -> cccc\n"
     ]
    }
   ],
   "source": [
    "\n",
    "def client_program() :\n",
    "    host = '127.0.0.1'\n",
    "    port = 5461\n",
    "    \n",
    "    keyReceive = False\n",
    "    client_socket = socket.socket()\n",
    "    client_socket.connect((host, port))\n",
    "\n",
    "    if keyReceive == False :\n",
    "        client_prikey = MCipher.readPEM(\"clientSignPriKey.pem\")\n",
    "        server_pubkey = MCipher.readPEM(\"serverSignPubKey.pem\")\n",
    "        \n",
    "        key_recv = client_socket.recv(1024)\n",
    "        key = MCipher.RSADecrypt(client_prikey, key_recv)\n",
    "        print(\"key : \" , key)\n",
    "        \n",
    "        client_socket.send('key exchange Success'.encode())\n",
    "        iv = client_socket.recv(1024).decode()\n",
    "        print('iv  :' , iv)\n",
    "        \n",
    "        client_socket.send('iv exchange Success'.encode())\n",
    "        \n",
    "        keyReceive = True\n",
    "        \n",
    "    AES = MCipher.setAES(key, iv)\n",
    "    \n",
    "    if keyReceive :\n",
    "        message = input(\" -> \")\n",
    "        \n",
    "        while message.lower().strip() != 'bye' :\n",
    "            \n",
    "            block = MCipher.makeHashBlock(message,client_prikey)\n",
    "            block_en = MCipher.AES_Encrypt(AES,block)\n",
    "            client_socket.send(block_en)\n",
    "            \n",
    "            r_data = client_socket.recv(1024)\n",
    "            d_data = MCipher.AES_Decrypt(AES,r_data)\n",
    "            data, sign_data = MCipher.separateHashBlcok(d_data)\n",
    "            if MCipher.verify(server_pubkey, data , sign_data ) : \n",
    "                print(\"Server가 보낸 메시지가 맞습니다. :\" ,data)\n",
    "                message = input(\" -> \")\n",
    "            else : \n",
    "                print(\"Server가 보내지 않았습니다.\")\n",
    "                break\n",
    "            \n",
    "            \n",
    "    \n",
    "    client_socket.close()\n",
    "        \n",
    "    \n",
    "if __name__ == '__main__' :\n",
    "    client_program()"
   ]
  },
  {
   "cell_type": "code",
   "execution_count": null,
   "metadata": {},
   "outputs": [],
   "source": []
  }
 ],
 "metadata": {
  "kernelspec": {
   "display_name": "Python 3",
   "language": "python",
   "name": "python3"
  },
  "language_info": {
   "codemirror_mode": {
    "name": "ipython",
    "version": 3
   },
   "file_extension": ".py",
   "mimetype": "text/x-python",
   "name": "python",
   "nbconvert_exporter": "python",
   "pygments_lexer": "ipython3",
   "version": "3.7.3"
  }
 },
 "nbformat": 4,
 "nbformat_minor": 2
}
