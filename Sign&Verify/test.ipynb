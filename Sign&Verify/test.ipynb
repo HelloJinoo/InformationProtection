{
 "cells": [
  {
   "cell_type": "code",
   "execution_count": 186,
   "metadata": {},
   "outputs": [],
   "source": [
    "from Crypto.Hash import SHA256\n",
    "from Crypto.Cipher import AES\n",
    "import base64\n",
    "import hashlib\n",
    "from Crypto.PublicKey import RSA\n",
    "from Crypto.Signature import PKCS1_v1_5\n",
    "\n",
    "BS = 16\n",
    "pad = lambda s : s + (BS - len(s) % BS) * chr(BS - len(s) % BS)\n",
    "unpad = lambda s : s[:-ord(s[len(s) -1:])]\n",
    "\n",
    "def makeHashBlock(data, key) :\n",
    "    hasher = SHA256.new(data.encode())\n",
    "    signature = sign(key, hasher)\n",
    "    sign_decode = signature.decode('ISO-8859-1')\n",
    "    hashblock = '{0:04x}'.format(len(data))+ data + '{0:04x}'.format(len(sign_decode)) + sign_decode\n",
    "    return hashblock\n",
    "\n",
    "\n",
    "def separateHashBlcok(hashBlock) :\n",
    "    data_size = int(hashBlock[:4],16)\n",
    "    data = hashBlock[4:data_size+4]\n",
    "    hashdata_size = int(hashBlock[data_size+4:data_size+4+4],16)\n",
    "    hashData = hashBlock[data_size+4+4 :data_size+4+4 +hashdata_size]\n",
    "    return data ,hashData.decode('ISO-8859-1')\n",
    "\n",
    "\n",
    "\n",
    "def sign(priKey, hashData) : \n",
    "    signer = PKCS1_v1_5.new(priKey)\n",
    "    signature = signer.sign(hashData)\n",
    "    return signature\n",
    "\n",
    "def verify(pubKey, message, signData) : \n",
    "    verifier = PKCS1_v1_5.new(pubKey)\n",
    "    hasher = SHA256.new(message.encode())\n",
    "    if verifier.verify(hasher, signData) :\n",
    "        return True\n",
    "    else :\n",
    "        return False\n",
    "    \n",
    "def setAES(key , iv) :\n",
    "    return AES.new(key , AES.MODE_CBC, iv)\n",
    "\n",
    "def AES_Encrypt(cipher , data) :\n",
    "    print(data)\n",
    "    pad_message = pad(data)   \n",
    "    print(\"pad_message :  len = \" , len(pad_message))\n",
    "    pad_message_encode = pad_message.encode()\n",
    "    encrpyt_pad_message_encode = cipher.encrypt(pad_message_encode)\n",
    "    enc_message = base64.b64encode(encrpyt_pad_message_encode)\n",
    "    return enc_message\n",
    "\n",
    "def AES_Decrypt(cipher, data ):\n",
    "    print(data)\n",
    "    decode_message = base64.b64decode(data)\n",
    "    decrpyt_meesage = cipher.decrypt(decode_message)\n",
    "    dec_message = unpad(decrpyt_meesage).decode()\n",
    "    return dec_message\n",
    "\n",
    "def readPEM(filename) :\n",
    "    f = open(filename,\"r\")\n",
    "    key = RSA.importKey(f.read())\n",
    "    f.close()\n",
    "    return key\n",
    "\n",
    "def RSAEncrypt(pubkey , data) :\n",
    "    return pubkey.encrypt(data.encode() , 32)\n",
    "\n",
    "def RSADecrypt(prikey, data) :\n",
    "    return prikey.decrypt(data).decode()"
   ]
  },
  {
   "cell_type": "code",
   "execution_count": 153,
   "metadata": {},
   "outputs": [],
   "source": [
    "message = \"abcdefghijksdfsdfsadfasdf\"\n",
    "\n",
    "svprikey = readPEM(\"serverSignPrikey.pem\")\n",
    "svpubkey = readPEM(\"serverSignPubkey.pem\")\n",
    "\n",
    "clprikey = readPEM(\"clientSignPrikey.pem\")\n",
    "clpubkey = readPEM(\"clientSignPubkey.pem\")"
   ]
  },
  {
   "cell_type": "code",
   "execution_count": 188,
   "metadata": {},
   "outputs": [],
   "source": [
    "key = 'thisisbadkeyokeythisisbadkeyokey'\n",
    "iv = 'ivisintialvector'\n",
    "AES = MCipher.setAES(key , iv)"
   ]
  },
  {
   "cell_type": "code",
   "execution_count": 155,
   "metadata": {},
   "outputs": [
    {
     "ename": "ValueError",
     "evalue": "Input strings must be a multiple of 16 in length",
     "output_type": "error",
     "traceback": [
      "\u001b[1;31m---------------------------------------------------------------------------\u001b[0m",
      "\u001b[1;31mValueError\u001b[0m                                Traceback (most recent call last)",
      "\u001b[1;32m<ipython-input-155-2520d6d58a97>\u001b[0m in \u001b[0;36m<module>\u001b[1;34m\u001b[0m\n\u001b[0;32m      1\u001b[0m \u001b[0mblock\u001b[0m \u001b[1;33m=\u001b[0m \u001b[0mmakeHashBlock\u001b[0m\u001b[1;33m(\u001b[0m\u001b[0mmessage\u001b[0m\u001b[1;33m,\u001b[0m \u001b[0mclprikey\u001b[0m\u001b[1;33m)\u001b[0m\u001b[1;33m\u001b[0m\u001b[1;33m\u001b[0m\u001b[0m\n\u001b[1;32m----> 2\u001b[1;33m \u001b[0mhash_block_en\u001b[0m \u001b[1;33m=\u001b[0m \u001b[0mAES_Encrypt\u001b[0m\u001b[1;33m(\u001b[0m\u001b[0mAES\u001b[0m\u001b[1;33m,\u001b[0m\u001b[0mblock\u001b[0m\u001b[1;33m)\u001b[0m\u001b[1;33m\u001b[0m\u001b[1;33m\u001b[0m\u001b[0m\n\u001b[0m",
      "\u001b[1;32m<ipython-input-152-765714da6fb3>\u001b[0m in \u001b[0;36mAES_Encrypt\u001b[1;34m(cipher, data)\u001b[0m\n\u001b[0;32m     46\u001b[0m         \u001b[0mpad_message\u001b[0m \u001b[1;33m=\u001b[0m \u001b[0mpad\u001b[0m\u001b[1;33m(\u001b[0m\u001b[0mdata\u001b[0m\u001b[1;33m)\u001b[0m\u001b[1;33m\u001b[0m\u001b[1;33m\u001b[0m\u001b[0m\n\u001b[0;32m     47\u001b[0m         \u001b[0mpad_message_encode\u001b[0m \u001b[1;33m=\u001b[0m \u001b[0mpad_message\u001b[0m\u001b[1;33m.\u001b[0m\u001b[0mencode\u001b[0m\u001b[1;33m(\u001b[0m\u001b[1;33m)\u001b[0m\u001b[1;33m\u001b[0m\u001b[1;33m\u001b[0m\u001b[0m\n\u001b[1;32m---> 48\u001b[1;33m         \u001b[0mencrpyt_pad_message_encode\u001b[0m \u001b[1;33m=\u001b[0m \u001b[0mcipher\u001b[0m\u001b[1;33m.\u001b[0m\u001b[0mencrypt\u001b[0m\u001b[1;33m(\u001b[0m\u001b[0mpad_message_encode\u001b[0m\u001b[1;33m)\u001b[0m\u001b[1;33m\u001b[0m\u001b[1;33m\u001b[0m\u001b[0m\n\u001b[0m\u001b[0;32m     49\u001b[0m         \u001b[0menc_message\u001b[0m \u001b[1;33m=\u001b[0m \u001b[0mbase64\u001b[0m\u001b[1;33m.\u001b[0m\u001b[0mb64encode\u001b[0m\u001b[1;33m(\u001b[0m\u001b[0mencrpyt_pad_message_encode\u001b[0m\u001b[1;33m)\u001b[0m\u001b[1;33m\u001b[0m\u001b[1;33m\u001b[0m\u001b[0m\n\u001b[0;32m     50\u001b[0m         \u001b[1;32mreturn\u001b[0m \u001b[0menc_message\u001b[0m\u001b[1;33m\u001b[0m\u001b[1;33m\u001b[0m\u001b[0m\n",
      "\u001b[1;32m~\\Anaconda3\\lib\\site-packages\\Crypto\\Cipher\\blockalgo.py\u001b[0m in \u001b[0;36mencrypt\u001b[1;34m(self, plaintext)\u001b[0m\n\u001b[0;32m    242\u001b[0m             \u001b[1;32mreturn\u001b[0m \u001b[0mres\u001b[0m\u001b[1;33m\u001b[0m\u001b[1;33m\u001b[0m\u001b[0m\n\u001b[0;32m    243\u001b[0m \u001b[1;33m\u001b[0m\u001b[0m\n\u001b[1;32m--> 244\u001b[1;33m         \u001b[1;32mreturn\u001b[0m \u001b[0mself\u001b[0m\u001b[1;33m.\u001b[0m\u001b[0m_cipher\u001b[0m\u001b[1;33m.\u001b[0m\u001b[0mencrypt\u001b[0m\u001b[1;33m(\u001b[0m\u001b[0mplaintext\u001b[0m\u001b[1;33m)\u001b[0m\u001b[1;33m\u001b[0m\u001b[1;33m\u001b[0m\u001b[0m\n\u001b[0m\u001b[0;32m    245\u001b[0m \u001b[1;33m\u001b[0m\u001b[0m\n\u001b[0;32m    246\u001b[0m     \u001b[1;32mdef\u001b[0m \u001b[0mdecrypt\u001b[0m\u001b[1;33m(\u001b[0m\u001b[0mself\u001b[0m\u001b[1;33m,\u001b[0m \u001b[0mciphertext\u001b[0m\u001b[1;33m)\u001b[0m\u001b[1;33m:\u001b[0m\u001b[1;33m\u001b[0m\u001b[1;33m\u001b[0m\u001b[0m\n",
      "\u001b[1;31mValueError\u001b[0m: Input strings must be a multiple of 16 in length"
     ]
    }
   ],
   "source": [
    "block = makeHashBlock(message, clprikey)\n",
    "hash_block_en = AES_Encrypt(AES,block)\n"
   ]
  },
  {
   "cell_type": "code",
   "execution_count": 190,
   "metadata": {},
   "outputs": [],
   "source": [
    "import base64"
   ]
  },
  {
   "cell_type": "code",
   "execution_count": 195,
   "metadata": {},
   "outputs": [
    {
     "data": {
      "text/plain": [
       "b'rgabfdsb'"
      ]
     },
     "execution_count": 195,
     "metadata": {},
     "output_type": "execute_result"
    }
   ],
   "source": [
    "base64.b64decode(base64.b64encode(b'rgabfdsb').decode())"
   ]
  },
  {
   "cell_type": "code",
   "execution_count": 164,
   "metadata": {},
   "outputs": [
    {
     "data": {
      "text/plain": [
       "<Crypto.Hash.SHA256.SHA256Hash at 0x21b241de710>"
      ]
     },
     "execution_count": 164,
     "metadata": {},
     "output_type": "execute_result"
    }
   ],
   "source": [
    "hasher = SHA256.new(data.encode())\n",
    "\n",
    "hasher"
   ]
  },
  {
   "cell_type": "code",
   "execution_count": 165,
   "metadata": {},
   "outputs": [
    {
     "data": {
      "text/plain": [
       "b'0F\\xdd\\xe9:h\\xd5\\x07^\\x99\\xf7\\xecd0\\x0bs\\x8e\\x0e\\x0e\\xd1\\xee\\xda\\x80sF\\xe4\\x82\\xae\\x80\\x99\\xb0Z\\x08(\\xcd\\xd0i\\x94S\\x06\\xd2\\xed\\xc4\\x12_\\xbf\\xb49\\xfc}T\\xe1gk\\x95\\x97\\x1b\\t\\x11uh\\xf0\\x87%\\xe2\\x93\\xebS\\xfd\\x8d(\\x01\\xbf\\x96(\\x80\\xaa\\x13\\x13\\x0b\\x89p_\\x18\\x8b\\xcb\\xbfA)\\x14\\xbe\\x1f\\x81\\xef\\x86RT\\xc2ot\\x87\\xf52fg\\xe5\\x1b\\x9f\\xd6\\x01\\x7fQ\\xe5\\x9dm\\xbf[\\xae\\xa5\\xf8\\xe1\\x14QD\\x8b5\\xa4\\xb3'"
      ]
     },
     "execution_count": 165,
     "metadata": {},
     "output_type": "execute_result"
    }
   ],
   "source": [
    "signature = sign(clprikey, hasher)\n",
    "signature"
   ]
  },
  {
   "cell_type": "code",
   "execution_count": 178,
   "metadata": {},
   "outputs": [
    {
     "data": {
      "text/plain": [
       "'\\x90ãùZ\\x9aÇN\\x7f;r7ÖÀ\\x90\\x0bËþ\\x0e\\x0eJÓ¹ØËãUbÞØr^!\\x97\\x88ò}Ñmë\\x86KÒD\\x12¬×©\\x99Ü\\'è÷Å,np\\x8f\\x8d\\x11ÍÇ0g\\nSlÔëÙý\\x88\\x01×o\\x88Ø¡\\x13\\x13\\x0biø¬\\x18»ô×\\xa0\\x89\\x9d´\\x1faÕfêèB?Èg5\\x16ÃÅV\\x8f¤O\\x01\"éV¸_×$Þv8÷\\x9déà»\\x95u·'"
      ]
     },
     "execution_count": 178,
     "metadata": {},
     "output_type": "execute_result"
    }
   ],
   "source": [
    "sign_decode = signature.decode('cp037')\n",
    "sign_decode"
   ]
  },
  {
   "cell_type": "code",
   "execution_count": 183,
   "metadata": {},
   "outputs": [
    {
     "data": {
      "text/plain": [
       "141"
      ]
     },
     "execution_count": 183,
     "metadata": {},
     "output_type": "execute_result"
    }
   ],
   "source": [
    "hashblock = '{0:04x}'.format(len(data))+ data + '{0:04x}'.format(len(sign_decode)) + sign_decode\n",
    "len(hashblock)"
   ]
  },
  {
   "cell_type": "code",
   "execution_count": 189,
   "metadata": {},
   "outputs": [
    {
     "name": "stdout",
     "output_type": "stream",
     "text": [
      "0005wfwfw0080ãùZÇN;r7ÖÀ\u000b",
      "Ëþ\u000e\u000eJÓ¹ØËãUbÞØr^!ò}ÑmëKÒD\u0012¬×©Ü'è÷Å,np\u0011ÍÇ0g\n",
      "SlÔëÙý\u0001×oØ¡\u0013\u0013\u000b",
      "iø¬\u0018»ô× ´\u001faÕfêèB?Èg5\u0016ÃÅV¤O\u0001\"éV¸_×$Þv8÷éà»u·\n",
      "pad_message :  len =  144\n"
     ]
    },
    {
     "ename": "ValueError",
     "evalue": "Input strings must be a multiple of 16 in length",
     "output_type": "error",
     "traceback": [
      "\u001b[1;31m---------------------------------------------------------------------------\u001b[0m",
      "\u001b[1;31mValueError\u001b[0m                                Traceback (most recent call last)",
      "\u001b[1;32m<ipython-input-189-fc70da280771>\u001b[0m in \u001b[0;36m<module>\u001b[1;34m\u001b[0m\n\u001b[0;32m      1\u001b[0m \u001b[1;33m\u001b[0m\u001b[0m\n\u001b[1;32m----> 2\u001b[1;33m \u001b[0mhash_block_en\u001b[0m \u001b[1;33m=\u001b[0m \u001b[0mAES_Encrypt\u001b[0m\u001b[1;33m(\u001b[0m\u001b[0mAES\u001b[0m\u001b[1;33m,\u001b[0m\u001b[0mhashblock\u001b[0m\u001b[1;33m)\u001b[0m\u001b[1;33m\u001b[0m\u001b[1;33m\u001b[0m\u001b[0m\n\u001b[0m\u001b[0;32m      3\u001b[0m \u001b[0mhash_block_en\u001b[0m\u001b[1;33m\u001b[0m\u001b[1;33m\u001b[0m\u001b[0m\n",
      "\u001b[1;32m<ipython-input-186-87ae08443304>\u001b[0m in \u001b[0;36mAES_Encrypt\u001b[1;34m(cipher, data)\u001b[0m\n\u001b[0;32m     48\u001b[0m     \u001b[0mprint\u001b[0m\u001b[1;33m(\u001b[0m\u001b[1;34m\"pad_message :  len = \"\u001b[0m \u001b[1;33m,\u001b[0m \u001b[0mlen\u001b[0m\u001b[1;33m(\u001b[0m\u001b[0mpad_message\u001b[0m\u001b[1;33m)\u001b[0m\u001b[1;33m)\u001b[0m\u001b[1;33m\u001b[0m\u001b[1;33m\u001b[0m\u001b[0m\n\u001b[0;32m     49\u001b[0m     \u001b[0mpad_message_encode\u001b[0m \u001b[1;33m=\u001b[0m \u001b[0mpad_message\u001b[0m\u001b[1;33m.\u001b[0m\u001b[0mencode\u001b[0m\u001b[1;33m(\u001b[0m\u001b[1;33m)\u001b[0m\u001b[1;33m\u001b[0m\u001b[1;33m\u001b[0m\u001b[0m\n\u001b[1;32m---> 50\u001b[1;33m     \u001b[0mencrpyt_pad_message_encode\u001b[0m \u001b[1;33m=\u001b[0m \u001b[0mcipher\u001b[0m\u001b[1;33m.\u001b[0m\u001b[0mencrypt\u001b[0m\u001b[1;33m(\u001b[0m\u001b[0mpad_message_encode\u001b[0m\u001b[1;33m)\u001b[0m\u001b[1;33m\u001b[0m\u001b[1;33m\u001b[0m\u001b[0m\n\u001b[0m\u001b[0;32m     51\u001b[0m     \u001b[0menc_message\u001b[0m \u001b[1;33m=\u001b[0m \u001b[0mbase64\u001b[0m\u001b[1;33m.\u001b[0m\u001b[0mb64encode\u001b[0m\u001b[1;33m(\u001b[0m\u001b[0mencrpyt_pad_message_encode\u001b[0m\u001b[1;33m)\u001b[0m\u001b[1;33m\u001b[0m\u001b[1;33m\u001b[0m\u001b[0m\n\u001b[0;32m     52\u001b[0m     \u001b[1;32mreturn\u001b[0m \u001b[0menc_message\u001b[0m\u001b[1;33m\u001b[0m\u001b[1;33m\u001b[0m\u001b[0m\n",
      "\u001b[1;32m~\\Anaconda3\\lib\\site-packages\\Crypto\\Cipher\\blockalgo.py\u001b[0m in \u001b[0;36mencrypt\u001b[1;34m(self, plaintext)\u001b[0m\n\u001b[0;32m    242\u001b[0m             \u001b[1;32mreturn\u001b[0m \u001b[0mres\u001b[0m\u001b[1;33m\u001b[0m\u001b[1;33m\u001b[0m\u001b[0m\n\u001b[0;32m    243\u001b[0m \u001b[1;33m\u001b[0m\u001b[0m\n\u001b[1;32m--> 244\u001b[1;33m         \u001b[1;32mreturn\u001b[0m \u001b[0mself\u001b[0m\u001b[1;33m.\u001b[0m\u001b[0m_cipher\u001b[0m\u001b[1;33m.\u001b[0m\u001b[0mencrypt\u001b[0m\u001b[1;33m(\u001b[0m\u001b[0mplaintext\u001b[0m\u001b[1;33m)\u001b[0m\u001b[1;33m\u001b[0m\u001b[1;33m\u001b[0m\u001b[0m\n\u001b[0m\u001b[0;32m    245\u001b[0m \u001b[1;33m\u001b[0m\u001b[0m\n\u001b[0;32m    246\u001b[0m     \u001b[1;32mdef\u001b[0m \u001b[0mdecrypt\u001b[0m\u001b[1;33m(\u001b[0m\u001b[0mself\u001b[0m\u001b[1;33m,\u001b[0m \u001b[0mciphertext\u001b[0m\u001b[1;33m)\u001b[0m\u001b[1;33m:\u001b[0m\u001b[1;33m\u001b[0m\u001b[1;33m\u001b[0m\u001b[0m\n",
      "\u001b[1;31mValueError\u001b[0m: Input strings must be a multiple of 16 in length"
     ]
    }
   ],
   "source": [
    "\n",
    "hash_block_en = AES_Encrypt(AES,hashblock)\n",
    "hash_block_en"
   ]
  },
  {
   "cell_type": "code",
   "execution_count": null,
   "metadata": {},
   "outputs": [],
   "source": []
  }
 ],
 "metadata": {
  "kernelspec": {
   "display_name": "Python 3",
   "language": "python",
   "name": "python3"
  },
  "language_info": {
   "codemirror_mode": {
    "name": "ipython",
    "version": 3
   },
   "file_extension": ".py",
   "mimetype": "text/x-python",
   "name": "python",
   "nbconvert_exporter": "python",
   "pygments_lexer": "ipython3",
   "version": "3.7.3"
  }
 },
 "nbformat": 4,
 "nbformat_minor": 2
}
