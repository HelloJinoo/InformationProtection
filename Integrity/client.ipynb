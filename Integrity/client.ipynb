{
 "cells": [
  {
   "cell_type": "code",
   "execution_count": 1,
   "metadata": {},
   "outputs": [],
   "source": [
    "from Crypto.PublicKey import RSA\n",
    "import MCipher"
   ]
  },
  {
   "cell_type": "code",
   "execution_count": 2,
   "metadata": {},
   "outputs": [],
   "source": [
    "prikey = RSA.generate(1024)\n",
    "pubkey = prikey.publickey()\n",
    "\n",
    "priFile = open(\"./clientrpriKey.pem\" , \"wb+\")\n",
    "priFile.write(prikey.exportKey(\"PEM\"))\n",
    "priFile.close()\n",
    "\n",
    "pubFile = open(\"./clientpubKey.pem\" , \"wb+\")\n",
    "pubFile.write(pubkey.exportKey(\"PEM\"))\n",
    "pubFile.close()"
   ]
  },
  {
   "cell_type": "code",
   "execution_count": 3,
   "metadata": {},
   "outputs": [
    {
     "ename": "TimeoutError",
     "evalue": "[WinError 10060] 연결된 구성원으로부터 응답이 없어 연결하지 못했거나, 호스트로부터 응답이 없어 연결이 끊어졌습니다",
     "output_type": "error",
     "traceback": [
      "\u001b[1;31m---------------------------------------------------------------------------\u001b[0m",
      "\u001b[1;31mTimeoutError\u001b[0m                              Traceback (most recent call last)",
      "\u001b[1;32m<ipython-input-3-cc969a7a7da6>\u001b[0m in \u001b[0;36m<module>\u001b[1;34m\u001b[0m\n\u001b[0;32m     58\u001b[0m \u001b[1;33m\u001b[0m\u001b[0m\n\u001b[0;32m     59\u001b[0m \u001b[1;32mif\u001b[0m \u001b[0m__name__\u001b[0m \u001b[1;33m==\u001b[0m \u001b[1;34m'__main__'\u001b[0m \u001b[1;33m:\u001b[0m\u001b[1;33m\u001b[0m\u001b[1;33m\u001b[0m\u001b[0m\n\u001b[1;32m---> 60\u001b[1;33m     \u001b[0mclient_program\u001b[0m\u001b[1;33m(\u001b[0m\u001b[1;33m)\u001b[0m\u001b[1;33m\u001b[0m\u001b[1;33m\u001b[0m\u001b[0m\n\u001b[0m",
      "\u001b[1;32m<ipython-input-3-cc969a7a7da6>\u001b[0m in \u001b[0;36mclient_program\u001b[1;34m()\u001b[0m\n\u001b[0;32m      8\u001b[0m     \u001b[0mkeyReceive\u001b[0m \u001b[1;33m=\u001b[0m \u001b[1;32mFalse\u001b[0m\u001b[1;33m\u001b[0m\u001b[1;33m\u001b[0m\u001b[0m\n\u001b[0;32m      9\u001b[0m     \u001b[0mclient_socket\u001b[0m \u001b[1;33m=\u001b[0m \u001b[0msocket\u001b[0m\u001b[1;33m.\u001b[0m\u001b[0msocket\u001b[0m\u001b[1;33m(\u001b[0m\u001b[1;33m)\u001b[0m\u001b[1;33m\u001b[0m\u001b[1;33m\u001b[0m\u001b[0m\n\u001b[1;32m---> 10\u001b[1;33m     \u001b[0mclient_socket\u001b[0m\u001b[1;33m.\u001b[0m\u001b[0mconnect\u001b[0m\u001b[1;33m(\u001b[0m\u001b[1;33m(\u001b[0m\u001b[0mhost\u001b[0m\u001b[1;33m,\u001b[0m \u001b[0mport\u001b[0m\u001b[1;33m)\u001b[0m\u001b[1;33m)\u001b[0m\u001b[1;33m\u001b[0m\u001b[1;33m\u001b[0m\u001b[0m\n\u001b[0m\u001b[0;32m     11\u001b[0m \u001b[1;33m\u001b[0m\u001b[0m\n\u001b[0;32m     12\u001b[0m     \u001b[1;32mif\u001b[0m \u001b[0mkeyReceive\u001b[0m \u001b[1;33m==\u001b[0m \u001b[1;32mFalse\u001b[0m \u001b[1;33m:\u001b[0m\u001b[1;33m\u001b[0m\u001b[1;33m\u001b[0m\u001b[0m\n",
      "\u001b[1;31mTimeoutError\u001b[0m: [WinError 10060] 연결된 구성원으로부터 응답이 없어 연결하지 못했거나, 호스트로부터 응답이 없어 연결이 끊어졌습니다"
     ]
    }
   ],
   "source": [
    "import socket\n",
    "import MCipher \n",
    "\n",
    "def client_program() :\n",
    "    host = '168.188.126.25'\n",
    "    port = 5461\n",
    "    \n",
    "    keyReceive = False\n",
    "    client_socket = socket.socket()\n",
    "    client_socket.connect((host, port))\n",
    "\n",
    "    if keyReceive == False :\n",
    "        key_recv = client_socket.recv(1024)\n",
    "        \n",
    "        client_prikey = MCipher.readPEM(\"clientrpriKey.pem\")\n",
    "        key = MCipher.RSADecrypt(client_prikey, key_recv)\n",
    "        print(\"key : \" , key)\n",
    "        \n",
    "        client_socket.send('key exchange Success'.encode())\n",
    "        \n",
    "        iv = client_socket.recv(1024).decode()\n",
    "        print('iv  :' , iv)\n",
    "        client_socket.send('iv exchange Success'.encode())\n",
    "        \n",
    "        keyReceive = True\n",
    "        \n",
    "    AES = MCipher.setAES(key, iv)\n",
    "    \n",
    "    if keyReceive :\n",
    "        message = input(\" -> \")\n",
    "        \n",
    "        while message.lower().strip() != 'bye' :\n",
    "            \n",
    "            \n",
    "            hash_block = MCipher.makeHashBlock(message)   # mesage hash\n",
    "            hash_block_en = MCipher.AES_Encrypt(AES,hash_block)\n",
    "            client_socket.send(hash_block_en)\n",
    "        \n",
    "        \n",
    "        \n",
    "            data = client_socket.recv(1024)\n",
    "\n",
    "            d_data = MCipher.AES_Decrypt(AES,data)\n",
    "            data, hash_data = MCipher.separateHashBlcok(d_data)\n",
    "            if MCipher.integrityCheck(data , hash_data) :\n",
    "                print(\"무결성 만족\")\n",
    "                print(\"revc complete.....\")\n",
    "                print(\"Recieved from user2 :\" + str(data))\n",
    "\n",
    "                data = input('->')\n",
    "\n",
    "            else :\n",
    "                print(\"무결성 위배\")\n",
    "                break\n",
    "    \n",
    "    client_socket.close()\n",
    "        \n",
    "    \n",
    "if __name__ == '__main__' :\n",
    "    client_program()"
   ]
  },
  {
   "cell_type": "code",
   "execution_count": null,
   "metadata": {},
   "outputs": [],
   "source": []
  }
 ],
 "metadata": {
  "kernelspec": {
   "display_name": "Python 3",
   "language": "python",
   "name": "python3"
  },
  "language_info": {
   "codemirror_mode": {
    "name": "ipython",
    "version": 3
   },
   "file_extension": ".py",
   "mimetype": "text/x-python",
   "name": "python",
   "nbconvert_exporter": "python",
   "pygments_lexer": "ipython3",
   "version": "3.7.3"
  }
 },
 "nbformat": 4,
 "nbformat_minor": 2
}
