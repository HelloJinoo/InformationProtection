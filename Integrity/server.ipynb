{
 "cells": [
  {
   "cell_type": "code",
   "execution_count": 1,
   "metadata": {},
   "outputs": [],
   "source": [
    "from Crypto.PublicKey import RSA\n",
    "import socket\n",
    "import MCipher"
   ]
  },
  {
   "cell_type": "code",
   "execution_count": null,
   "metadata": {},
   "outputs": [],
   "source": [
    "# Key generate\n",
    "prikey = RSA.generate(1024)\n",
    "pubkey = prikey.publickey()\n",
    "\n",
    "priFile = open(\"./serverpriKey.pem\" , \"wb+\")\n",
    "priFile.write(prikey.exportKey(\"PEM\"))\n",
    "priFile.close()\n",
    "\n",
    "pubFile = open(\"./serverpubKey.pem\" , \"wb+\")\n",
    "pubFile.write(pubkey.exportKey(\"PEM\"))\n",
    "pubFile.close()"
   ]
  },
  {
   "cell_type": "code",
   "execution_count": null,
   "metadata": {},
   "outputs": [
    {
     "name": "stdout",
     "output_type": "stream",
     "text": [
      "key exchange Success\n",
      "iv exchange Success\n",
      "Connection from :('127.0.0.1', 49963)\n",
      "무결성 만족\n",
      "revc complete.....\n",
      "Recieved from user2 :sdgsdg\n",
      "->bfbbfbfb\n",
      "무결성 만족\n",
      "revc complete.....\n",
      "Recieved from user2 :sdgsdg\n"
     ]
    }
   ],
   "source": [
    "def server_program() :\n",
    "    host = '127.0.0.1'\n",
    "    port = 5461\n",
    "    \n",
    "    key = 'thisisbadkeyokeythisisbadkeyokey'\n",
    "    iv = 'ivisintialvector'\n",
    "    \n",
    "    server_socket = socket.socket()\n",
    "    server_socket.bind((host, port))\n",
    "    server_socket.listen(2)\n",
    "    conn, address = server_socket.accept()\n",
    "    \n",
    "    client_pubkey = MCipher.readPEM(\"clientpubKey.pem\")\n",
    "    key_encrypt = MCipher.RSAEncrypt(client_pubkey , key)[0]\n",
    "\n",
    "    conn.send(key_encrypt)\n",
    "    \n",
    "    print(conn.recv(1024).decode())\n",
    "    \n",
    "    conn.send(iv.encode())\n",
    "    print(conn.recv(1024).decode())\n",
    "    \n",
    "    print(\"Connection from :\" + str(address))\n",
    "    AES = MCipher.setAES(key , iv)\n",
    "    while True :\n",
    "        rdata = conn.recv(1024)\n",
    "        if not rdata :\n",
    "            break\n",
    "        d_data = MCipher.AES_Decrypt(AES,rdata)\n",
    "        data, hash_data = MCipher.separateHashBlcok(d_data)\n",
    "        \n",
    "        if MCipher.integrityCheck(data , hash_data) :\n",
    "            print(\"무결성 만족\")\n",
    "            print(\"revc complete.....\")\n",
    "            print(\"Recieved from user2 :\" + str(data))\n",
    "            \n",
    "            data = input('->')\n",
    "            hash_block = MCipher.makeHashBlock(data) \n",
    "            hash_block_en = MCipher.AES_Encrypt(AES,hash_block)\n",
    "            conn.send(hash_block_en)\n",
    "        \n",
    "        else :\n",
    "            print(\"무결성 위배\")\n",
    "            break\n",
    "       \n",
    "        \n",
    "    conn.close()\n",
    "    \n",
    "if __name__ == '__main__' :\n",
    "    server_program()\n",
    "    "
   ]
  },
  {
   "cell_type": "code",
   "execution_count": null,
   "metadata": {},
   "outputs": [],
   "source": []
  },
  {
   "cell_type": "code",
   "execution_count": null,
   "metadata": {},
   "outputs": [],
   "source": []
  }
 ],
 "metadata": {
  "kernelspec": {
   "display_name": "Python 3",
   "language": "python",
   "name": "python3"
  },
  "language_info": {
   "codemirror_mode": {
    "name": "ipython",
    "version": 3
   },
   "file_extension": ".py",
   "mimetype": "text/x-python",
   "name": "python",
   "nbconvert_exporter": "python",
   "pygments_lexer": "ipython3",
   "version": "3.7.3"
  }
 },
 "nbformat": 4,
 "nbformat_minor": 2
}
