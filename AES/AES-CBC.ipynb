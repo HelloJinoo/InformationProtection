{
 "cells": [
  {
   "cell_type": "code",
   "execution_count": 7,
   "metadata": {},
   "outputs": [
    {
     "name": "stdout",
     "output_type": "stream",
     "text": [
      "Enter either \"encrypt\" or \"e\" or \"decrypt\" or \"d\".\n",
      "d\n",
      "Enter your file name : \n",
      "encrypt.txt\n",
      "En(De)cryption complete\n"
     ]
    }
   ],
   "source": [
    "from Crypto.Cipher import AES\n",
    "import base64\n",
    "\n",
    "BS = 16\n",
    "pad = lambda s : s + (BS - len(s) % BS) * chr(BS - len(s) % BS)\n",
    "unpad = lambda s : s[:-ord(s[len(s) -1:])]\n",
    "\n",
    "def getMode() :\n",
    "    while True :\n",
    "        print('Enter either \"encrypt\" or \"e\" or \"decrypt\" or \"d\".')\n",
    "        mode = input().lower()\n",
    "        if mode in 'encrypt e decrypt d'.split() :\n",
    "            return mode\n",
    "        else :\n",
    "            print('The value you entered its invalid')\n",
    "\n",
    "def getFileName() :\n",
    "    print('Enter your file name : ')\n",
    "    return input()\n",
    "\n",
    "def str_to_byte(data) :\n",
    "    u_type = type(b''.decode('utf8'))\n",
    "    if isinstance(data, u_type) :\n",
    "        return data.encode('utf8')\n",
    "    return data\n",
    "\n",
    "def crypto(mode, fileName) :\n",
    "    iv = \"asefasdfefsdsdfe\"\n",
    "    key = \"thisisbadkeyokey\"\n",
    "    \n",
    "    outputFileName = 'encrypt.txt'\n",
    "    if mode[0] == 'd' :\n",
    "        outputFileName = 'decrypt.txt'\n",
    "    translated = ''\n",
    "    outputFile = open(outputFileName , 'w')\n",
    "    inputFile = open(fileName , 'r')\n",
    "    message = inputFile.read()\n",
    " \n",
    "    #=============================================================================================================\n",
    "    cipher = AES.new(key , AES.MODE_CBC, iv)   #AEEs생성 , key,mode, initial vector Setting\n",
    "\n",
    "    if mode[0] =='d':\n",
    "        decode_message = base64.b64decode(message)\n",
    "        decrpyt_meesage = cipher.decrypt(decode_message)\n",
    "        translated = unpad(decrpyt_meesage).decode('utf-8')\n",
    "\n",
    "    else :                         #Encrypt\n",
    "        pad_message = pad(message)\n",
    "        pad_message_encode = pad_message.encode()\n",
    "        encrpyt_pad_message_encode = cipher.encrypt(pad_message_encode)\n",
    "        translated = base64.b64encode(encrpyt_pad_message_encode).decode('utf-8')\n",
    "\n",
    "    #=======================================================================================\n",
    "    outputFile.write(str(translated))\n",
    "    outputFile.close()\n",
    "    inputFile.close()\n",
    "    print('En(De)cryption complete')\n",
    "    \n",
    "mode = getMode()\n",
    "fileName = getFileName()\n",
    "crypto(mode, fileName)\n"
   ]
  },
  {
   "cell_type": "code",
   "execution_count": null,
   "metadata": {},
   "outputs": [],
   "source": []
  }
 ],
 "metadata": {
  "kernelspec": {
   "display_name": "Python 3",
   "language": "python",
   "name": "python3"
  },
  "language_info": {
   "codemirror_mode": {
    "name": "ipython",
    "version": 3
   },
   "file_extension": ".py",
   "mimetype": "text/x-python",
   "name": "python",
   "nbconvert_exporter": "python",
   "pygments_lexer": "ipython3",
   "version": "3.7.3"
  }
 },
 "nbformat": 4,
 "nbformat_minor": 2
}
