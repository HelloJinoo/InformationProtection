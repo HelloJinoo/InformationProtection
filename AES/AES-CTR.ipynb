{
 "cells": [
  {
   "cell_type": "code",
   "execution_count": 17,
   "metadata": {},
   "outputs": [
    {
     "name": "stdout",
     "output_type": "stream",
     "text": [
      "Enter either \"encrypt\" or \"e\" or \"decrypt\" or \"d\".\n",
      "d\n",
      "Enter your file name : \n",
      "encrypt.txt\n",
      "En(De)cryption complete\n"
     ]
    }
   ],
   "source": [
    "from Crypto.Cipher import AES\n",
    "from Crypto.Util import Counter\n",
    "import base64\n",
    "\n",
    "def getMode() :\n",
    "    while True :\n",
    "        print('Enter either \"encrypt\" or \"e\" or \"decrypt\" or \"d\".')\n",
    "        mode = input().lower()\n",
    "        if mode in 'encrypt e decrypt d'.split() :\n",
    "            return mode\n",
    "        else :\n",
    "            print('The value you entered its invalid')\n",
    "\n",
    "def getFileName() :\n",
    "    print('Enter your file name : ')\n",
    "    return input()\n",
    "\n",
    "def str_to_byte(data) :\n",
    "    u_type = type(b''.decode('utf8'))\n",
    "    if isinstance(data, u_type) :\n",
    "        return data.encode('utf8')\n",
    "    return data\n",
    "\n",
    "def crypto(mode, fileName) :\n",
    "    key = \"thisisbadkeyokey\"\n",
    "    counter = Counter.new(128)\n",
    "    outputFileName = 'encrypt.txt'\n",
    "    if mode[0] == 'd' :\n",
    "        outputFileName = 'decrypt.txt'\n",
    "    translated = ''\n",
    "    outputFile = open(outputFileName , 'w')\n",
    "    inputFile = open(fileName , 'r')\n",
    "    message = inputFile.read()\n",
    "\n",
    "    #=============================================================================================================\n",
    "    cipher = AES.new(key , AES.MODE_CTR , counter=counter)   #AES생성 , key,mode, counter\n",
    "    \n",
    "    if mode[0] =='d':\n",
    "        dec_message = base64.b64decode(message)\n",
    "        decrypt_message = cipher.decrypt(dec_message)\n",
    "        translated = decrypt_message.decode('utf-8')\n",
    "        \n",
    "    else :                         #Encrypt\n",
    "        encrpyt_message = cipher.encrypt(message)  # str -> b'byte\n",
    "        translated = base64.b64encode(encrpyt_message).decode('utf-8')   #b' -> encode -> decode\n",
    "\n",
    "\n",
    "    \n",
    "    #=======================================================================================\n",
    "    outputFile.write(str(translated))\n",
    "    outputFile.close()\n",
    "    inputFile.close()\n",
    "    print('En(De)cryption complete')\n",
    "\n",
    "mode = getMode()\n",
    "fileName = getFileName()\n",
    "crypto(mode, fileName)\n",
    "\n"
   ]
  },
  {
   "cell_type": "code",
   "execution_count": null,
   "metadata": {},
   "outputs": [],
   "source": []
  }
 ],
 "metadata": {
  "kernelspec": {
   "display_name": "Python 3",
   "language": "python",
   "name": "python3"
  },
  "language_info": {
   "codemirror_mode": {
    "name": "ipython",
    "version": 3
   },
   "file_extension": ".py",
   "mimetype": "text/x-python",
   "name": "python",
   "nbconvert_exporter": "python",
   "pygments_lexer": "ipython3",
   "version": "3.7.3"
  }
 },
 "nbformat": 4,
 "nbformat_minor": 2
}
