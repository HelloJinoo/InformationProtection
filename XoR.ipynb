{
 "cells": [
  {
   "cell_type": "code",
   "execution_count": 3,
   "metadata": {},
   "outputs": [],
   "source": [
    "def getMode() :\n",
    "    while True :\n",
    "        print('Enter either \"encrypt\" or \"e\" or \"decrypt\" or \"d\".')\n",
    "        mode = input().lower()\n",
    "        if mode in 'encrypt e decrypt d'.split() :\n",
    "            return mode\n",
    "        else :\n",
    "            print('The value you entered its invalid')\n",
    "\n",
    "def getFileName() :\n",
    "    print('Enter your file name : ')\n",
    "    return input()\n",
    "\n",
    "def getKey() :\n",
    "    key = \"\"\n",
    "    while True :\n",
    "        print('Enter the key : ')\n",
    "        return input()\n",
    "\n",
    "    \n",
    "\n",
    "def str_xor(keyValue, message) : \n",
    "    result = ''\n",
    "    for i in range(0,len(message)) : \n",
    "        target_ascii = ord(message[i])\n",
    "        key_ascii = ord(keyValue[i])\n",
    "        result += chr(target_ascii^key_ascii)\n",
    "\n",
    "    return result\n",
    "\n",
    "\n",
    "def encrypt(mode, fileName, key) :\n",
    "    keyValue = ''\n",
    "    \n",
    "    outputFileName = 'encrypt.txt'\n",
    "    if mode[0] == 'd' :\n",
    "        outputFileName = 'decrypt.txt'\n",
    "    translated = ''\n",
    "    outputFile = open(outputFileName , 'w')\n",
    "    \n",
    "    inputFile = open(fileName , 'r')\n",
    "    message = inputFile.read()\n",
    "    \n",
    "    for i in range(len(message)//3) :\n",
    "        keyValue += key\n",
    "\n",
    "    translated = str_xor(keyValue, message)\n",
    "    outputFile.write(translated)\n",
    "    outputFile.close()\n",
    "    inputFile.close()\n",
    "    print('En(De)cryption complete')\n",
    "    \n",
    "mode = getMode()\n",
    "key = getKey()\n",
    "fileName = getFileName()\n",
    "encrypt(mode, fileName ,key)\n",
    "    "
   ]
  },
  {
   "cell_type": "code",
   "execution_count": null,
   "metadata": {},
   "outputs": [],
   "source": []
  }
 ],
 "metadata": {
  "kernelspec": {
   "display_name": "Python 3",
   "language": "python",
   "name": "python3"
  },
  "language_info": {
   "codemirror_mode": {
    "name": "ipython",
    "version": 3
   },
   "file_extension": ".py",
   "mimetype": "text/x-python",
   "name": "python",
   "nbconvert_exporter": "python",
   "pygments_lexer": "ipython3",
   "version": "3.7.3"
  }
 },
 "nbformat": 4,
 "nbformat_minor": 2
}
