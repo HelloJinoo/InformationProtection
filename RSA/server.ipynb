{
 "cells": [
  {
   "cell_type": "code",
   "execution_count": 1,
   "metadata": {},
   "outputs": [],
   "source": [
    "from Crypto.PublicKey import RSA\n",
    "import socket\n",
    "import MCipher\n",
    "\n"
   ]
  },
  {
   "cell_type": "code",
   "execution_count": null,
   "metadata": {},
   "outputs": [],
   "source": [
    "# Key generate\n",
    "prikey = RSA.generate(1024)\n",
    "pubkey = prikey.publickey()\n",
    "\n",
    "priFile = open(\"./serverpriKey.pem\" , \"wb+\")\n",
    "priFile.write(prikey.exportKey(\"PEM\"))\n",
    "priFile.close()\n",
    "\n",
    "pubFile = open(\"./serverpubKey.pem\" , \"wb+\")\n",
    "pubFile.write(pubkey.exportKey(\"PEM\"))\n",
    "pubFile.close()"
   ]
  },
  {
   "cell_type": "code",
   "execution_count": null,
   "metadata": {},
   "outputs": [
    {
     "name": "stdout",
     "output_type": "stream",
     "text": [
      "MCipher.RSAEncrypt(client_pubkey , key) :  <class 'tuple'>\n",
      "key_encrypt :  b\"i \\xcd?\\x07\\x83\\x0b\\x8b\\x00\\xdb\\x99W\\x9e\\x13\\x9dT\\xb0\\xac)\\xd5\\x1f\\xa9r\\xf8\\xd2|\\x94\\xb1\\x9b\\xb2\\xa7\\xa5\\xaf\\xe4\\x11|cH\\xe7]J\\xfbQ\\x81\\xcd\\x04UY\\xe60\\x9e\\x00vK\\xc3\\x17'rUa\\r@\\xbe\\x1e\\xb1@#\\xe1~\\xe1\\xedS\\x82[5\\x04(\\x8b\\t^\\x17_\\x9bS\\xed\\x86\\xe5`G\\x15\\x1f\\xec\\xbf\\x93S\\xd4F\\xf2\\xa9\\x05\\xe1\\x86\\xe3\\xael\\x11\\x80\\xef\\xc4\\xf9\\xc2\\x18 j\\x06\\x9c\\x9drOw|\\xc2\\xb9&V\\x80o\\xb6\"\n",
      "key exchange Success\n",
      "iv exchange Success\n",
      "Connection from :('127.0.0.1', 52309)\n"
     ]
    }
   ],
   "source": [
    "def server_program() :\n",
    "    host = '127.0.0.1'\n",
    "    port = 5461\n",
    "    \n",
    "    key = 'thisisbadkeyokeythisisbadkeyokey'\n",
    "    iv = 'ivisintialvector'\n",
    "    \n",
    "    server_socket = socket.socket()\n",
    "    server_socket.bind((host, port))\n",
    "    server_socket.listen(2)\n",
    "    conn, address = server_socket.accept()\n",
    "    \n",
    "    client_pubkey = MCipher.readPEM(\"clientpubKey.pem\")\n",
    "    key_encrypt = MCipher.RSAEncrypt(client_pubkey , key)[0]\n",
    "\n",
    "    conn.send(key_encrypt)\n",
    "    \n",
    "    print(conn.recv(1024).decode())\n",
    "    \n",
    "    conn.send(iv.encode())\n",
    "    print(conn.recv(1024).decode())\n",
    "    \n",
    "    print(\"Connection from :\" + str(address))\n",
    "    AES = MCipher.setAES(key , iv)\n",
    "    while True :\n",
    "        rdata = conn.recv(1024)\n",
    "        if not rdata :\n",
    "            break\n",
    "        d_data = MCipher.AES_Decrypt(AES,rdata)\n",
    "        print(\"revc complete.....\")\n",
    "        print(\"Recieved from user2 :\" + str(d_data))\n",
    "        data = input('->')\n",
    "        enc_data = MCipher.AES_Encrypt(AES,data)\n",
    "        conn.send(enc_data)\n",
    "        \n",
    "    conn.close()\n",
    "    \n",
    "if __name__ == '__main__' :\n",
    "    server_program()\n",
    "    "
   ]
  },
  {
   "cell_type": "code",
   "execution_count": null,
   "metadata": {},
   "outputs": [],
   "source": []
  },
  {
   "cell_type": "code",
   "execution_count": null,
   "metadata": {},
   "outputs": [],
   "source": []
  }
 ],
 "metadata": {
  "kernelspec": {
   "display_name": "Python 3",
   "language": "python",
   "name": "python3"
  },
  "language_info": {
   "codemirror_mode": {
    "name": "ipython",
    "version": 3
   },
   "file_extension": ".py",
   "mimetype": "text/x-python",
   "name": "python",
   "nbconvert_exporter": "python",
   "pygments_lexer": "ipython3",
   "version": "3.7.3"
  }
 },
 "nbformat": 4,
 "nbformat_minor": 2
}
