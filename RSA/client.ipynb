{
 "cells": [
  {
   "cell_type": "code",
   "execution_count": 1,
   "metadata": {},
   "outputs": [],
   "source": [
    "from Crypto.PublicKey import RSA\n",
    "import MCipher "
   ]
  },
  {
   "cell_type": "code",
   "execution_count": null,
   "metadata": {},
   "outputs": [],
   "source": [
    "prikey = RSA.generate(1024)\n",
    "pubkey = prikey.publickey()\n",
    "\n",
    "priFile = open(\"./clientrpriKey.pem\" , \"wb+\")\n",
    "priFile.write(prikey.exportKey(\"PEM\"))\n",
    "priFile.close()\n",
    "\n",
    "pubFile = open(\"./clientpubKey.pem\" , \"wb+\")\n",
    "pubFile.write(pubkey.exportKey(\"PEM\"))\n",
    "pubFile.close()"
   ]
  },
  {
   "cell_type": "code",
   "execution_count": null,
   "metadata": {},
   "outputs": [
    {
     "name": "stdout",
     "output_type": "stream",
     "text": [
      "key_recv encrpyt :  b\"i \\xcd?\\x07\\x83\\x0b\\x8b\\x00\\xdb\\x99W\\x9e\\x13\\x9dT\\xb0\\xac)\\xd5\\x1f\\xa9r\\xf8\\xd2|\\x94\\xb1\\x9b\\xb2\\xa7\\xa5\\xaf\\xe4\\x11|cH\\xe7]J\\xfbQ\\x81\\xcd\\x04UY\\xe60\\x9e\\x00vK\\xc3\\x17'rUa\\r@\\xbe\\x1e\\xb1@#\\xe1~\\xe1\\xedS\\x82[5\\x04(\\x8b\\t^\\x17_\\x9bS\\xed\\x86\\xe5`G\\x15\\x1f\\xec\\xbf\\x93S\\xd4F\\xf2\\xa9\\x05\\xe1\\x86\\xe3\\xael\\x11\\x80\\xef\\xc4\\xf9\\xc2\\x18 j\\x06\\x9c\\x9drOw|\\xc2\\xb9&V\\x80o\\xb6\"\n",
      "key :  thisisbadkeyokeythisisbadkeyokey\n",
      "iv  : ivisintialvector\n"
     ]
    }
   ],
   "source": [
    "import socket\n",
    "import MCipher \n",
    "\n",
    "def client_program() :\n",
    "    host = '127.0.0.1'\n",
    "    port = 5461\n",
    "    \n",
    "    keyReceive = False\n",
    "    client_socket = socket.socket()\n",
    "    client_socket.connect((host, port))\n",
    "\n",
    "    if keyReceive == False :\n",
    "        key_recv = client_socket.recv(1024)\n",
    "        \n",
    "        client_prikey = MCipher.readPEM(\"clientrpriKey.pem\")\n",
    "        key = MCipher.RSADecrypt(client_prikey, key_recv)\n",
    "        print(\"key : \" , key)\n",
    "        \n",
    "        client_socket.send('key exchange Success'.encode())\n",
    "        \n",
    "        iv = client_socket.recv(1024).decode()\n",
    "        print('iv  :' , iv)\n",
    "        client_socket.send('iv exchange Success'.encode())\n",
    "        \n",
    "        keyReceive = True\n",
    "        \n",
    "    AES = MCipher.setAES(key, iv)\n",
    "    \n",
    "    if keyReceive :\n",
    "        message = input(\" -> \")\n",
    "        while message.lower().strip() != 'bye' :\n",
    "            \n",
    "            enc_message = MCipher.AES_Encrypt(AES,message)\n",
    "            client_socket.send(enc_message)\n",
    "            data = client_socket.recv(1024)\n",
    "            rec_data = MCipher.AES_Decrypt(AES,data)\n",
    "            print(\"Receviced from user1 :\", rec_data)\n",
    "            message = input(' -> ')\n",
    "    \n",
    "    client_socket.close()\n",
    "        \n",
    "    \n",
    "if __name__ == '__main__' :\n",
    "    client_program()"
   ]
  },
  {
   "cell_type": "code",
   "execution_count": null,
   "metadata": {},
   "outputs": [],
   "source": []
  }
 ],
 "metadata": {
  "kernelspec": {
   "display_name": "Python 3",
   "language": "python",
   "name": "python3"
  },
  "language_info": {
   "codemirror_mode": {
    "name": "ipython",
    "version": 3
   },
   "file_extension": ".py",
   "mimetype": "text/x-python",
   "name": "python",
   "nbconvert_exporter": "python",
   "pygments_lexer": "ipython3",
   "version": "3.7.3"
  }
 },
 "nbformat": 4,
 "nbformat_minor": 2
}
